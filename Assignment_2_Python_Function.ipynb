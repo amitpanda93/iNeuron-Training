{
  "nbformat": 4,
  "nbformat_minor": 0,
  "metadata": {
    "kernelspec": {
      "display_name": "Python 3",
      "language": "python",
      "name": "python3"
    },
    "language_info": {
      "codemirror_mode": {
        "name": "ipython",
        "version": 3
      },
      "file_extension": ".py",
      "mimetype": "text/x-python",
      "name": "python",
      "nbconvert_exporter": "python",
      "pygments_lexer": "ipython3",
      "version": "3.7.4"
    },
    "colab": {
      "name": "Copy of Assignment 2 - Python Function.ipynb",
      "provenance": [],
      "collapsed_sections": []
    }
  },
  "cells": [
    {
      "cell_type": "markdown",
      "metadata": {
        "id": "qS8l854KrZFa",
        "colab_type": "text"
      },
      "source": [
        "## Problem Statement"
      ]
    },
    {
      "cell_type": "markdown",
      "metadata": {
        "id": "aMVsdMnZrZFd",
        "colab_type": "text"
      },
      "source": [
        "Q.1 Write a Python Program to implement your own myreduce() function which works exactly like\n",
        "Python's built-in function reduce()\n"
      ]
    },
    {
      "cell_type": "code",
      "metadata": {
        "id": "1im78OCfrZFe",
        "colab_type": "code",
        "colab": {
          "base_uri": "https://localhost:8080/",
          "height": 34
        },
        "outputId": "4d1b9bcc-fd8c-41d0-f1f2-485c8fdf5e69"
      },
      "source": [
        "def sum(x, y):\n",
        "    return x + y\n",
        "\n",
        "def myreduce(func, seq):\n",
        "    result = seq[0]\n",
        "    for i in seq[1:]:\n",
        "        result = func(result, i)\n",
        "    return result\n",
        "\n",
        "print(myreduce(sum, [1, 2, 3, 4]))"
      ],
      "execution_count": 1,
      "outputs": [
        {
          "output_type": "stream",
          "text": [
            "10\n"
          ],
          "name": "stdout"
        }
      ]
    },
    {
      "cell_type": "markdown",
      "metadata": {
        "id": "8Fo0ID--rZFi",
        "colab_type": "text"
      },
      "source": [
        "Q.2 Write a Python program to implement your own myfilter() function which works exactly like\n",
        "Python's built-in function filter()"
      ]
    },
    {
      "cell_type": "code",
      "metadata": {
        "id": "wAM_VD83rZFj",
        "colab_type": "code",
        "colab": {
          "base_uri": "https://localhost:8080/",
          "height": 34
        },
        "outputId": "05bb9600-dcee-4c72-e6c7-2d4570c16142"
      },
      "source": [
        "def myfilter(sequence):\n",
        "    filter_sequence = []\n",
        "    for variable in sequence:\n",
        "        if (variable in list('aeiou')):\n",
        "            filter_sequence.append(variable)\n",
        "    return filter_sequence\n",
        "\n",
        "sequence = list('amitpanda')\n",
        "print(myfilter(sequence))"
      ],
      "execution_count": 2,
      "outputs": [
        {
          "output_type": "stream",
          "text": [
            "['a', 'i', 'a', 'a']\n"
          ],
          "name": "stdout"
        }
      ]
    },
    {
      "cell_type": "markdown",
      "metadata": {
        "id": "opYqjIPOrZFl",
        "colab_type": "text"
      },
      "source": [
        "Q.3 Implement List comprehensions to produce the following lists.\n",
        "   Write List comprehensions to produce the following Lists\n",
        "   \n",
        "    ['A', 'C', 'A', 'D', 'G', 'I', ’L’, ‘ D’]\n",
        "   \n",
        "    ['x', 'xx', 'xxx', 'xxxx', 'y', 'yy', 'yyy', 'yyyy', 'z', 'zz', 'zzz', 'zzzz']\n",
        "\n",
        "    ['x', 'y', 'z', 'xx', 'yy', 'zz', 'xx', 'yy', 'zz', 'xxxx', 'yyyy', 'zzzz']\n",
        "    \n",
        "    [[2], [3], [4], [3], [4], [5], [4], [5], [6]]\n",
        "\n",
        "    [[2, 3, 4, 5], [3, 4, 5, 6], [4, 5, 6, 7], [5, 6, 7, 8]]\n",
        "\n",
        "    [(1, 1), (2, 1), (3, 1), (1, 2), (2, 2), (3, 2), (1, 3), (2, 3), (3, 3)]"
      ]
    },
    {
      "cell_type": "code",
      "metadata": {
        "id": "k9Xt9h30rZFm",
        "colab_type": "code",
        "colab": {
          "base_uri": "https://localhost:8080/",
          "height": 123
        },
        "outputId": "3f12eb5f-0e5d-4d7a-abd9-277d96bbdf71"
      },
      "source": [
        "print([x for x in 'ACADGILD'])\n",
        "print([j * i for j in 'xyz' for i in range(1, 5)])\n",
        "print([j * i for i in range(1, 5) for j in 'xyz'])\n",
        "print([[i] for j in range(2, 5) for i in range(j, j + 3)])\n",
        "print([list(range(i, i + 4)) for i in range(2, 6)])\n",
        "print([(i, j) for j in range(1, 4) for i in range(1, 4)])"
      ],
      "execution_count": 3,
      "outputs": [
        {
          "output_type": "stream",
          "text": [
            "['A', 'C', 'A', 'D', 'G', 'I', 'L', 'D']\n",
            "['x', 'xx', 'xxx', 'xxxx', 'y', 'yy', 'yyy', 'yyyy', 'z', 'zz', 'zzz', 'zzzz']\n",
            "['x', 'y', 'z', 'xx', 'yy', 'zz', 'xxx', 'yyy', 'zzz', 'xxxx', 'yyyy', 'zzzz']\n",
            "[[2], [3], [4], [3], [4], [5], [4], [5], [6]]\n",
            "[[2, 3, 4, 5], [3, 4, 5, 6], [4, 5, 6, 7], [5, 6, 7, 8]]\n",
            "[(1, 1), (2, 1), (3, 1), (1, 2), (2, 2), (3, 2), (1, 3), (2, 3), (3, 3)]\n"
          ],
          "name": "stdout"
        }
      ]
    },
    {
      "cell_type": "markdown",
      "metadata": {
        "id": "89FV0fTFrZFq",
        "colab_type": "text"
      },
      "source": [
        "Q.4 Implement a function longestWord() that takes a list of words and returns the longest one."
      ]
    },
    {
      "cell_type": "code",
      "metadata": {
        "id": "tSzlZUIPrZFr",
        "colab_type": "code",
        "colab": {
          "base_uri": "https://localhost:8080/",
          "height": 34
        },
        "outputId": "7270bfa4-7ae5-40a7-87d2-e24c7b4eb972"
      },
      "source": [
        "def longestWord(word_list):\n",
        "    result = ''\n",
        "    for word in word_list:\n",
        "        if len(word) > len(result):\n",
        "            result = word\n",
        "    return result\n",
        "\n",
        "print(longestWord(['swdf', 'erwfgqwerfg', 'wfwef', 'wefrwef']))"
      ],
      "execution_count": 4,
      "outputs": [
        {
          "output_type": "stream",
          "text": [
            "erwfgqwerfg\n"
          ],
          "name": "stdout"
        }
      ]
    },
    {
      "cell_type": "markdown",
      "metadata": {
        "id": "SiTB_sF3rZFv",
        "colab_type": "text"
      },
      "source": [
        "Q.5 Write a Python Program(with class concepts) to find the area of the triangle using the below\n",
        "formula.\n",
        "\n",
        "area = (s*(s-a)*(s-b)*(s-c)) ** 0.5\n",
        "\n",
        "Function to take the length of the sides of triangle from user should be defined in the parent\n",
        "class and function to calculate the area should be defined in subclass."
      ]
    },
    {
      "cell_type": "code",
      "metadata": {
        "id": "Whj3uAJorZFw",
        "colab_type": "code",
        "colab": {
          "base_uri": "https://localhost:8080/",
          "height": 34
        },
        "outputId": "1f956518-f108-40bb-de39-a7e89b2ada2a"
      },
      "source": [
        "class A:\n",
        "    def __init__(self, a, b, c):\n",
        "        self.a = a\n",
        "        self.b = b\n",
        "        self.c = c\n",
        "\n",
        "class B(A):\n",
        "    def __init__(self, a, b, c):\n",
        "        super().__init__(a, b, c)\n",
        "\n",
        "    def calc_area(self):\n",
        "        s = (self.a + self.b + self.c) / 2.0\n",
        "        area = (s * (s - self.a) * (s - self.b) * (s - self.c)) * 0.5\n",
        "        print('Area: ', area)\n",
        "\n",
        "area = B(3, 4, 5)\n",
        "area.calc_area()"
      ],
      "execution_count": 5,
      "outputs": [
        {
          "output_type": "stream",
          "text": [
            "Area:  18.0\n"
          ],
          "name": "stdout"
        }
      ]
    },
    {
      "cell_type": "markdown",
      "metadata": {
        "id": "uaAt-2MhrZFy",
        "colab_type": "text"
      },
      "source": [
        "Q.6 Write a function filter_long_words() that takes a list of words and an integer n and returns the list\n",
        "of words that are longer than n."
      ]
    },
    {
      "cell_type": "code",
      "metadata": {
        "id": "sm0TYbMzrZFz",
        "colab_type": "code",
        "colab": {
          "base_uri": "https://localhost:8080/",
          "height": 34
        },
        "outputId": "cbbe6855-40ec-40a7-e921-1a10e0c24206"
      },
      "source": [
        "def filter_long_words(word_list, length):\n",
        "    return list(filter(lambda x: len(x) > length, word_list))\n",
        "\n",
        "print(filter_long_words(['tima', 'Ku', 'mAERFF', 'Prefre', 'fff'], 3))"
      ],
      "execution_count": 6,
      "outputs": [
        {
          "output_type": "stream",
          "text": [
            "['tima', 'mAERFF', 'Prefre']\n"
          ],
          "name": "stdout"
        }
      ]
    },
    {
      "cell_type": "markdown",
      "metadata": {
        "id": "PM7sMGwCrZF2",
        "colab_type": "text"
      },
      "source": [
        "Q.7 Write a Python program using function concept that maps list of words into a list of integers\n",
        "representing the lengths of the corresponding words.\n",
        "    \n",
        "    Hint: If a list [ ab,cde,erty] is passed on to the python function output should come as [2,3,4]\n",
        "    Here 2,3 and 4 are the lengths of the words in the list."
      ]
    },
    {
      "cell_type": "code",
      "metadata": {
        "id": "gB9myObkrZF3",
        "colab_type": "code",
        "colab": {
          "base_uri": "https://localhost:8080/",
          "height": 34
        },
        "outputId": "32c37986-78a1-4a8c-a0e2-f04f9598bb7f"
      },
      "source": [
        "def find_length(word_list):\n",
        "    return [len(word) for word in word_list]\n",
        "\n",
        "print(find_length(['abc', 'csdfgde', 'ewerwefdrty']))"
      ],
      "execution_count": 7,
      "outputs": [
        {
          "output_type": "stream",
          "text": [
            "[3, 7, 11]\n"
          ],
          "name": "stdout"
        }
      ]
    },
    {
      "cell_type": "markdown",
      "metadata": {
        "id": "hIbk0pMNrZF5",
        "colab_type": "text"
      },
      "source": [
        "Q.8 Write a Python function which takes a character (i.e. a string of length 1) and returns True if it is\n",
        "a vowel, False otherwise."
      ]
    },
    {
      "cell_type": "code",
      "metadata": {
        "id": "ZmmTxUc4rZF7",
        "colab_type": "code",
        "colab": {
          "base_uri": "https://localhost:8080/",
          "height": 52
        },
        "outputId": "220d7fa5-00e0-4957-b50f-8acffc31261f"
      },
      "source": [
        "def check_vowel(char):\n",
        "    if char.lower() in list('aeiou'):\n",
        "        return 'True'\n",
        "    else:\n",
        "        return 'False'\n",
        "\n",
        "print(check_vowel(input('Enter a character: ')))"
      ],
      "execution_count": 9,
      "outputs": [
        {
          "output_type": "stream",
          "text": [
            "Enter a character: a\n",
            "True\n"
          ],
          "name": "stdout"
        }
      ]
    },
    {
      "cell_type": "markdown",
      "metadata": {
        "id": "a6h7pkWsrZF-",
        "colab_type": "text"
      },
      "source": [
        "## Great job!"
      ]
    }
  ]
}